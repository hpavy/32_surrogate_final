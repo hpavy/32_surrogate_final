{
 "cells": [
  {
   "cell_type": "code",
   "execution_count": 10,
   "metadata": {},
   "outputs": [],
   "source": [
    "from model import PINNs"
   ]
  },
  {
   "cell_type": "code",
   "execution_count": 24,
   "metadata": {},
   "outputs": [],
   "source": [
    "hyper_param = {\n",
    "    \"H\": [\n",
    "        230.67,\n",
    "        # 230.67,\n",
    "        # 230.67,\n",
    "        # 230.67,\n",
    "        # 230.67,\n",
    "        # 261.39,\n",
    "        # 261.39,\n",
    "        # 261.39,\n",
    "        # 261.39,\n",
    "        # 261.39,\n",
    "    ],  # la rigidité du ressort\n",
    "    \"ya0\": [\n",
    "        0.00125,\n",
    "        # 0.00375,\n",
    "        # 0.00625,\n",
    "        # 0.00875,\n",
    "        # 0.00125,\n",
    "        # 0.00375,\n",
    "        # 0.00625,\n",
    "        # 0.00875,\n",
    "    ],  # la position initiale du ressort\n",
    "    \"m\": 1.57,  # la masse du ressort\n",
    "    \"file\": [\n",
    "        \"data_john_4_case_2.csv\",\n",
    "        # \"data_john_5_case_2.csv\",\n",
    "        # \"data_john_7_case_2.csv\",\n",
    "        # \"data_john_9_case_2.csv\",\n",
    "        # \"data_john_4_case_1.csv\",\n",
    "        # \"data_john_5_case_1.csv\",\n",
    "        # \"data_john_7_case_1.csv\",\n",
    "        # \"data_john_9_case_1.csv\",\n",
    "    ],\n",
    "    \"nb_epoch\": 1000,  # epoch number\n",
    "    \"save_rate\": 20,  # rate to save\n",
    "    \"dynamic_weights\": True,\n",
    "    \"lr_weights\": 1e-1,  # si dynamic weights\n",
    "    \"weight_data\": 0.33,\n",
    "    \"weight_border\": 0.33,\n",
    "    \"batch_size\": 10000,  # a changer\n",
    "    \"Re\": 100,\n",
    "    \"lr_init\": 0.001,\n",
    "    \"gamma_scheduler\": 0.999,  # pour la lr\n",
    "    \"nb_layers\": 18,\n",
    "    \"nb_neurons\": 64,\n",
    "    \"n_data_test\": 5000,\n",
    "    \"nb_points\": 12 * 12,  # le nombre de points pris par axe par pas de temps\n",
    "    \"x_min\": -0.1,\n",
    "    \"x_max\": 0.1,\n",
    "    \"y_min\": -0.06,\n",
    "    \"y_max\": 0.06,\n",
    "    \"t_min\": 6.5,\n",
    "    \"nb_period\": 10,\n",
    "    \"nb_period_plot\": 2,\n",
    "    \"nb_points_close_cylinder\": 50,  # le nombre de points proches du cylindre\n",
    "    \"rayon_close_cylinder\": 0.015,\n",
    "    \"nb_points_border\": 25,  # le nombre de points sur la condition init\n",
    "    \"force_inertie_bool\": True,\n",
    "}\n"
   ]
  },
  {
   "cell_type": "code",
   "execution_count": 25,
   "metadata": {},
   "outputs": [],
   "source": [
    "model = PINNs(hyper_param)"
   ]
  },
  {
   "cell_type": "code",
   "execution_count": 26,
   "metadata": {},
   "outputs": [
    {
     "data": {
      "text/plain": [
       "75459"
      ]
     },
     "execution_count": 26,
     "metadata": {},
     "output_type": "execute_result"
    }
   ],
   "source": [
    "sum(p.numel() for p in model.parameters() if p.requires_grad)"
   ]
  },
  {
   "cell_type": "code",
   "execution_count": null,
   "metadata": {},
   "outputs": [],
   "source": []
  }
 ],
 "metadata": {
  "kernelspec": {
   "display_name": "base",
   "language": "python",
   "name": "python3"
  },
  "language_info": {
   "codemirror_mode": {
    "name": "ipython",
    "version": 3
   },
   "file_extension": ".py",
   "mimetype": "text/x-python",
   "name": "python",
   "nbconvert_exporter": "python",
   "pygments_lexer": "ipython3",
   "version": "3.12.7"
  }
 },
 "nbformat": 4,
 "nbformat_minor": 2
}
